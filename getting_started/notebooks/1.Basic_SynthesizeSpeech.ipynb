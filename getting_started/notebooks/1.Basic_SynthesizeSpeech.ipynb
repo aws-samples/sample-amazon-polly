{
 "cells": [
  {
   "cell_type": "markdown",
   "metadata": {},
   "source": [
    "# Getting Started with Amazon Polly: Basic Speech Synthesis\n",
    "\n",
    "This notebook demonstrates how to use the Amazon Polly service to synthesize speech using different engines, voices, and configurations. You'll learn how to:\n",
    "\n",
    "- Set up the boto3 client for Amazon Polly\n",
    "- Generate speech with different engines (Standard, Neural, Long-form)\n",
    "- Use various voices and languages\n",
    "- Save audio files locally in different formats\n",
    "- Apply basic SSML (Speech Synthesis Markup Language) enhancements\n",
    "\n",
    "## Prerequisites\n",
    "\n",
    "- An AWS account with access to Amazon Polly\n",
    "- AWS credentials configured locally\n",
    "- Python 3.6+ with boto3 installed\n",
    "\n",
    "Let's get started!"
   ]
  },
  {
   "cell_type": "markdown",
   "metadata": {},
   "source": [
    "## Setting up the Environment"
   ]
  },
  {
   "cell_type": "markdown",
   "metadata": {},
   "source": [
    "First, we'll import the necessary libraries and set up our AWS client."
   ]
  },
  {
   "cell_type": "code",
   "execution_count": null,
   "metadata": {},
   "outputs": [],
   "source": [
    "%%bash\n",
    "pip install boto3 ipython"
   ]
  },
  {
   "cell_type": "code",
   "execution_count": null,
   "metadata": {},
   "outputs": [],
   "source": [
    "# Import required libraries\n",
    "import boto3\n",
    "import os\n",
    "from IPython.display import Audio\n",
    "import time\n",
    "import json\n",
    "\n",
    "# Create a client for Amazon Polly\n",
    "polly_client = boto3.client('polly')\n",
    "\n",
    "# Create output directory if it doesn't exist\n",
    "output_dir = \"audio_output\"\n",
    "if not os.path.exists(output_dir):\n",
    "    os.makedirs(output_dir)"
   ]
  },
  {
   "cell_type": "markdown",
   "metadata": {},
   "source": [
    "Let's create some helper functions to synthesize speech and save audio files."
   ]
  },
  {
   "cell_type": "code",
   "execution_count": null,
   "metadata": {},
   "outputs": [],
   "source": [
    "def synthesize_speech(text, voice_id, engine=\"standard\", output_format=\"mp3\", text_type=\"text\"):\n",
    "    \"\"\"\n",
    "    Synthesize speech using Amazon Polly and return the audio stream.\n",
    "    \n",
    "    Parameters:\n",
    "    - text: The text to convert to speech\n",
    "    - voice_id: The voice to use (e.g., 'Joanna', 'Matthew')\n",
    "    - engine: The engine to use ('standard', 'neural', or 'long-form')\n",
    "    - output_format: The output format ('mp3', 'ogg_vorbis', or 'pcm')\n",
    "    - text_type: The type of input text ('text' or 'ssml')\n",
    "    \n",
    "    Returns:\n",
    "    - Audio stream\n",
    "    \"\"\"\n",
    "    try:\n",
    "        response = polly_client.synthesize_speech(\n",
    "            Text=text,\n",
    "            VoiceId=voice_id,\n",
    "            Engine=engine,\n",
    "            OutputFormat=output_format,\n",
    "            TextType=text_type\n",
    "        )\n",
    "        return response['AudioStream'].read()\n",
    "    except Exception as e:\n",
    "        print(f\"Error synthesizing speech: {str(e)}\")\n",
    "        return None\n",
    "\n",
    "def save_audio_file(audio_data, filename):\n",
    "    \"\"\"\n",
    "    Save audio data to a file.\n",
    "    \n",
    "    Parameters:\n",
    "    - audio_data: The audio data to save\n",
    "    - filename: The name of the file to save to\n",
    "    \"\"\"\n",
    "    if audio_data:\n",
    "        file_path = os.path.join(output_dir, filename)\n",
    "        try:\n",
    "            with open(file_path, 'wb') as file:\n",
    "                file.write(audio_data)\n",
    "            print(f\"Audio saved to {file_path}\")\n",
    "        except Exception as e:\n",
    "            print(f\"Error saving audio file: {str(e)}\")\n",
    "\n",
    "def play_audio(audio_data, format=\"audio/mp3\"):\n",
    "    \"\"\"\n",
    "    Play audio data in the notebook.\n",
    "    \n",
    "    Parameters:\n",
    "    - audio_data: The audio data to play\n",
    "    - format: The format of the audio data\n",
    "    \"\"\"\n",
    "    if audio_data:\n",
    "        return Audio(audio_data, autoplay=True, rate=16000)"
   ]
  },
  {
   "cell_type": "markdown",
   "metadata": {},
   "source": [
    "## Understanding Amazon Polly Engines\n",
    "\n",
    "Amazon Polly offers four different engines for speech synthesis:\n",
    "\n",
    "1. **Standard Engine**: Uses concatenative synthesis technology. Good for applications that need quick responses and cost efficiency.\n",
    "\n",
    "2. **Neural Engine**: Uses deep learning technology to create more natural and human-like speech. Better for applications where speech quality is important.\n",
    "\n",
    "3. **Long-Form Engine**: Optimized for longer content, providing better prosody and more natural pauses.\n",
    "\n",
    "4. **Generative Engine**: Offers the most human-like, emotionally engaged, and adaptive conversational voices available for the use via the Amazon Polly console."
   ]
  },
  {
   "cell_type": "markdown",
   "metadata": {},
   "source": [
    "Let's examine the available voices in Amazon Polly."
   ]
  },
  {
   "cell_type": "code",
   "execution_count": null,
   "metadata": {},
   "outputs": [],
   "source": [
    "# Get the list of available voices\n",
    "response = polly_client.describe_voices()\n",
    "\n",
    "# Create dictionaries to store voices by engine type\n",
    "standard_voices = []\n",
    "neural_voices = []\n",
    "long_form_voices = []\n",
    "generative_voices = []\n",
    "\n",
    "# Categorize voices by supported engine\n",
    "for voice in response['Voices']:\n",
    "    voice_info = {\n",
    "        'Id': voice['Id'],\n",
    "        'LanguageCode': voice['LanguageCode'],\n",
    "        'Gender': voice['Gender']\n",
    "    }\n",
    "    \n",
    "    supported_engines = voice.get('SupportedEngines', [])\n",
    "    \n",
    "    if 'standard' in supported_engines:\n",
    "        standard_voices.append(voice_info)\n",
    "    \n",
    "    if 'neural' in supported_engines:\n",
    "        neural_voices.append(voice_info)\n",
    "        \n",
    "    if 'long-form' in supported_engines:\n",
    "        long_form_voices.append(voice_info)\n",
    "    \n",
    "    if 'generative' in supported_engines:\n",
    "        generative_voices.append(voice_info)\n",
    "\n",
    "print(f\"Available Standard Voices: {len(standard_voices)}\")\n",
    "print(f\"Available Neural Voices: {len(neural_voices)}\")\n",
    "print(f\"Available Long-form Voices: {len(long_form_voices)}\")\n",
    "print(f\"Available Generative Voices: {len(generative_voices)}\")\n",
    "\n",
    "# Show the first 5 neural and generative voices as examples\n",
    "print(\"\\nSample Neural Voices:\")\n",
    "for voice in neural_voices[:5]:\n",
    "    print(f\"ID: {voice['Id']}, Language: {voice['LanguageCode']}, Gender: {voice['Gender']}\")\n",
    "\n",
    "print(\"\\nSample Generative Voices:\")\n",
    "for voice in generative_voices[:5]:\n",
    "    print(f\"ID: {voice['Id']}, Language: {voice['LanguageCode']}, Gender: {voice['Gender']}\")"
   ]
  },
  {
   "cell_type": "markdown",
   "metadata": {},
   "source": [
    "## Example 1: Standard Engine Speech Synthesis\n",
    "\n",
    "Let's start by synthesizing speech using the standard engine with a few different voices."
   ]
  },
  {
   "cell_type": "code",
   "execution_count": null,
   "metadata": {},
   "outputs": [],
   "source": [
    "# Sample text to synthesize\n",
    "sample_text = \"Hello, welcome to this demonstration of Amazon Polly. This is the standard engine.\"\n",
    "\n",
    "# Example with US English female voice (Joanna)\n",
    "standard_audio_joanna = synthesize_speech(\n",
    "    text=sample_text,\n",
    "    voice_id=\"Joanna\",\n",
    "    engine=\"standard\",\n",
    "    output_format=\"mp3\",\n",
    "    text_type=\"text\"\n",
    ")\n",
    "\n",
    "# Save the audio\n",
    "save_audio_file(standard_audio_joanna, \"standard_joanna.mp3\")\n",
    "\n",
    "# Play the audio\n",
    "play_audio(standard_audio_joanna)"
   ]
  },
  {
   "cell_type": "code",
   "execution_count": null,
   "metadata": {},
   "outputs": [],
   "source": [
    "# Example with US English male voice (Matthew)\n",
    "standard_audio_matthew = synthesize_speech(\n",
    "    text=sample_text,\n",
    "    voice_id=\"Matthew\",\n",
    "    engine=\"standard\",\n",
    "    output_format=\"mp3\",\n",
    "    text_type=\"text\"\n",
    ")\n",
    "\n",
    "# Save the audio\n",
    "save_audio_file(standard_audio_matthew, \"standard_matthew.mp3\")\n",
    "\n",
    "# Play the audio\n",
    "play_audio(standard_audio_matthew)"
   ]
  },
  {
   "cell_type": "markdown",
   "metadata": {},
   "source": [
    "## Example 2: Neural Engine Speech Synthesis\n",
    "\n",
    "Now, let's try the neural engine for higher quality speech."
   ]
  },
  {
   "cell_type": "code",
   "execution_count": null,
   "metadata": {},
   "outputs": [],
   "source": [
    "# Sample text to synthesize\n",
    "sample_text = \"Hello, welcome to this demonstration of Amazon Polly. This is the neural engine, which produces more natural-sounding speech.\"\n",
    "\n",
    "# Example with US English female voice (Joanna)\n",
    "neural_audio_joanna = synthesize_speech(\n",
    "    text=sample_text,\n",
    "    voice_id=\"Joanna\",\n",
    "    engine=\"neural\",\n",
    "    output_format=\"mp3\",\n",
    "    text_type=\"text\"\n",
    ")\n",
    "\n",
    "# Save the audio\n",
    "save_audio_file(neural_audio_joanna, \"neural_joanna.mp3\")\n",
    "\n",
    "# Play the audio\n",
    "play_audio(neural_audio_joanna)"
   ]
  },
  {
   "cell_type": "code",
   "execution_count": null,
   "metadata": {},
   "outputs": [],
   "source": [
    "# Example with US English male voice (Matthew)\n",
    "neural_audio_matthew = synthesize_speech(\n",
    "    text=sample_text,\n",
    "    voice_id=\"Matthew\",\n",
    "    engine=\"neural\",\n",
    "    output_format=\"mp3\",\n",
    "    text_type=\"text\"\n",
    ")\n",
    "\n",
    "# Save the audio\n",
    "save_audio_file(neural_audio_matthew, \"neural_matthew.mp3\")\n",
    "\n",
    "# Play the audio\n",
    "play_audio(neural_audio_matthew)"
   ]
  },
  {
   "cell_type": "markdown",
   "metadata": {},
   "source": [
    "## Example 3: Generative Engine Speech Synthesis\n",
    "\n",
    "Now, let's try the generative engine for highest quality speech."
   ]
  },
  {
   "cell_type": "code",
   "execution_count": null,
   "metadata": {},
   "outputs": [],
   "source": [
    "# Sample text to synthesize\n",
    "sample_text = \"Hello, welcome to this demonstration of Amazon Polly. This is the generative engine, which produces the most natural-sounding speech.\"\n",
    "\n",
    "# Example with US English female voice (Joanna)\n",
    "generative_audio_joanna = synthesize_speech(\n",
    "    text=sample_text,\n",
    "    voice_id=\"Joanna\",\n",
    "    engine=\"generative\",\n",
    "    output_format=\"mp3\",\n",
    "    text_type=\"text\"\n",
    ")\n",
    "\n",
    "# Save the audio\n",
    "save_audio_file(generative_audio_joanna, \"generative_joanna.mp3\")\n",
    "\n",
    "# Play the audio\n",
    "play_audio(generative_audio_joanna)"
   ]
  },
  {
   "cell_type": "code",
   "execution_count": null,
   "metadata": {},
   "outputs": [],
   "source": [
    "# Example with US English male voice (Matthew)\n",
    "generative_audio_stephen = synthesize_speech(\n",
    "    text=sample_text,\n",
    "    voice_id=\"Stephen\",\n",
    "    engine=\"generative\",\n",
    "    output_format=\"mp3\",\n",
    "    text_type=\"text\"\n",
    ")\n",
    "\n",
    "# Save the audio\n",
    "save_audio_file(generative_audio_stephen, \"generative_stephen.mp3\")\n",
    "\n",
    "# Play the audio\n",
    "play_audio(generative_audio_stephen)"
   ]
  },
  {
   "cell_type": "markdown",
   "metadata": {},
   "source": [
    "## Example 4: Different Output Formats\n",
    "\n",
    "Amazon Polly supports multiple output formats. Let's try a few."
   ]
  },
  {
   "cell_type": "code",
   "execution_count": null,
   "metadata": {},
   "outputs": [],
   "source": [
    "# Sample text\n",
    "sample_text = \"This is a demonstration of different output formats in Amazon Polly.\"\n",
    "\n",
    "# MP3 format (default)\n",
    "mp3_audio = synthesize_speech(\n",
    "    text=sample_text,\n",
    "    voice_id=\"Joanna\",\n",
    "    output_format=\"mp3\"\n",
    ")\n",
    "save_audio_file(mp3_audio, \"sample_mp3.mp3\")\n",
    "\n",
    "# OGG format\n",
    "ogg_audio = synthesize_speech(\n",
    "    text=sample_text,\n",
    "    voice_id=\"Joanna\",\n",
    "    output_format=\"ogg_vorbis\"\n",
    ")\n",
    "save_audio_file(ogg_audio, \"sample_ogg.ogg\")\n",
    "\n",
    "# PCM format\n",
    "pcm_audio = synthesize_speech(\n",
    "    text=sample_text,\n",
    "    voice_id=\"Joanna\",\n",
    "    output_format=\"pcm\"\n",
    ")\n",
    "save_audio_file(pcm_audio, \"sample_pcm.pcm\")\n",
    "\n",
    "print(\"All formats generated and saved.\")"
   ]
  },
  {
   "cell_type": "markdown",
   "metadata": {},
   "source": [
    "## Example 5: Multilingual Support\n",
    "\n",
    "Amazon Polly supports many languages. Let's try a few examples."
   ]
  },
  {
   "cell_type": "code",
   "execution_count": null,
   "metadata": {},
   "outputs": [],
   "source": [
    "# Spanish\n",
    "spanish_text = \"Hola, esto es una demostración de Amazon Polly en español.\"\n",
    "spanish_audio = synthesize_speech(\n",
    "    text=spanish_text,\n",
    "    voice_id=\"Lupe\", # Spanish voice\n",
    "    engine=\"neural\" if any(voice['Id'] == 'Lupe' for voice in neural_voices) else \"standard\"\n",
    ")\n",
    "save_audio_file(spanish_audio, \"spanish_demo.mp3\")\n",
    "play_audio(spanish_audio)"
   ]
  },
  {
   "cell_type": "code",
   "execution_count": null,
   "metadata": {},
   "outputs": [],
   "source": [
    "# French\n",
    "french_text = \"Bonjour, c'est une démonstration d'Amazon Polly en français.\"\n",
    "french_audio = synthesize_speech(\n",
    "    text=french_text,\n",
    "    voice_id=\"Lea\", # French voice don't use the è use e instead\n",
    "    engine=\"neural\" if any(voice['Id'] == 'Léa' for voice in neural_voices) else \"standard\"\n",
    ")\n",
    "save_audio_file(french_audio, \"french_demo.mp3\")\n",
    "play_audio(french_audio)"
   ]
  },
  {
   "cell_type": "code",
   "execution_count": null,
   "metadata": {},
   "outputs": [],
   "source": [
    "# German\n",
    "german_text = \"Hallo, dies ist eine Demonstration von Amazon Polly auf Deutsch.\"\n",
    "german_audio = synthesize_speech(\n",
    "    text=german_text,\n",
    "    voice_id=\"Vicki\", # German voice\n",
    "    engine=\"neural\" if any(voice['Id'] == 'Vicki' for voice in neural_voices) else \"standard\"\n",
    ")\n",
    "save_audio_file(german_audio, \"german_demo.mp3\")\n",
    "play_audio(german_audio)"
   ]
  },
  {
   "cell_type": "markdown",
   "metadata": {},
   "source": [
    "## Example 6: Using SSML\n",
    "\n",
    "Speech Synthesis Markup Language (SSML) gives you more control over how Amazon Polly generates speech. Let's see some examples."
   ]
  },
  {
   "cell_type": "code",
   "execution_count": null,
   "metadata": {},
   "outputs": [],
   "source": [
    "# Basic SSML with pauses\n",
    "ssml_text = \"\"\"<speak>\n",
    "    Hello! <break time='1s'/> Welcome to Amazon Polly. \n",
    "    This is a demonstration of SSML, which allows for <prosody rate='slow'>slower speech</prosody> \n",
    "    or <prosody rate='fast'>faster speech</prosody>, and even \n",
    "    <prosody volume='loud'>loud volume</prosody> or <prosody volume='soft'>soft volume</prosody>.\n",
    "</speak>\"\"\"\n",
    "\n",
    "ssml_audio = synthesize_speech(\n",
    "    text=ssml_text,\n",
    "    voice_id=\"Joanna\",\n",
    "    engine=\"neural\",\n",
    "    text_type=\"ssml\"\n",
    ")\n",
    "save_audio_file(ssml_audio, \"ssml_demo.mp3\")\n",
    "play_audio(ssml_audio)"
   ]
  },
  {
   "cell_type": "code",
   "execution_count": null,
   "metadata": {},
   "outputs": [],
   "source": [
    "# SSML with phonetic pronunciation\n",
    "ssml_phonetic = \"\"\"<speak>\n",
    "    You say tomato, I say <phoneme alphabet='ipa' ph='təˈmeɪtoʊ'>tomato</phoneme>.\n",
    "    Let's call the whole thing off!\n",
    "</speak>\"\"\"\n",
    "\n",
    "phonetic_audio = synthesize_speech(\n",
    "    text=ssml_phonetic,\n",
    "    voice_id=\"Joanna\",\n",
    "    engine=\"neural\",\n",
    "    text_type=\"ssml\"\n",
    ")\n",
    "save_audio_file(phonetic_audio, \"ssml_phonetic.mp3\")\n",
    "play_audio(phonetic_audio)"
   ]
  },
  {
   "cell_type": "code",
   "execution_count": null,
   "metadata": {},
   "outputs": [],
   "source": [
    "# SSML with neural speaking styles (only works with certain neural voices)\n",
    "ssml_news_style = \"\"\"<speak>\n",
    "    <amazon:domain name=\"news\">\n",
    "    In today's news, researchers have discovered a breakthrough in quantum computing \n",
    "    that could revolutionize the field of artificial intelligence. \n",
    "    The new technology, developed by an international team of scientists, \n",
    "    is expected to accelerate machine learning algorithms by orders of magnitude.\n",
    "    </amazon:domain>\n",
    "</speak>\"\"\"\n",
    "\n",
    "try:\n",
    "    news_style_audio = synthesize_speech(\n",
    "        text=ssml_news_style,\n",
    "        voice_id=\"Matthew\",  # Make sure to use a voice that supports news style\n",
    "        engine=\"neural\",\n",
    "        text_type=\"ssml\"\n",
    "    )\n",
    "    save_audio_file(news_style_audio, \"ssml_news_style.mp3\")\n",
    "    play_audio(news_style_audio)\n",
    "except Exception as e:\n",
    "    print(f\"Note: News style might not be supported by this voice or in your region: {str(e)}\")"
   ]
  },
  {
   "cell_type": "markdown",
   "metadata": {},
   "source": [
    "## Example 7: Long-Form Engine\n",
    "\n",
    "The Long-Form engine is optimized for longer content like paragraphs or articles."
   ]
  },
  {
   "cell_type": "code",
   "execution_count": null,
   "metadata": {},
   "outputs": [],
   "source": [
    "# A longer sample text\n",
    "long_text = \"\"\"\n",
    "Artificial intelligence is transforming our world in remarkable ways. From healthcare to transportation, \n",
    "AI systems are being deployed to solve complex problems and improve efficiency. \n",
    "In healthcare, AI algorithms can detect diseases from medical images with accuracy rivaling that of human experts. \n",
    "In transportation, self-driving vehicles are becoming increasingly sophisticated, promising to reduce accidents and congestion. \n",
    "In finance, AI is used to detect fraudulent transactions and optimize investment portfolios. \n",
    "Despite these advances, there are important ethical considerations around AI, including privacy concerns, \n",
    "bias in algorithms, and the potential impact on employment. As society continues to adopt AI technologies, \n",
    "it will be crucial to address these challenges while maximizing the benefits of this powerful technology.\n",
    "\"\"\"\n",
    "\n",
    "# Check if any of our detected voices support long-form\n",
    "if long_form_voices:\n",
    "    selected_voice = long_form_voices[0]['Id']\n",
    "    try:\n",
    "        long_form_audio = synthesize_speech(\n",
    "            text=long_text,\n",
    "            voice_id=selected_voice,\n",
    "            engine=\"long-form\",\n",
    "            output_format=\"mp3\"\n",
    "        )\n",
    "        save_audio_file(long_form_audio, \"long_form_demo.mp3\")\n",
    "        play_audio(long_form_audio)\n",
    "    except Exception as e:\n",
    "        print(f\"Error with long-form engine: {str(e)}\")\n",
    "        print(\"Falling back to neural engine...\")\n",
    "        neural_audio = synthesize_speech(\n",
    "            text=long_text,\n",
    "            voice_id=\"Joanna\",  # Using a common neural voice\n",
    "            engine=\"neural\",\n",
    "            output_format=\"mp3\"\n",
    "        )\n",
    "        save_audio_file(neural_audio, \"neural_long_text.mp3\")\n",
    "        play_audio(neural_audio)\n",
    "else:\n",
    "    print(\"No long-form voices detected. Using neural engine instead.\")\n",
    "    neural_audio = synthesize_speech(\n",
    "        text=long_text,\n",
    "        voice_id=\"Joanna\",  # Using a common neural voice\n",
    "        engine=\"neural\",\n",
    "        output_format=\"mp3\"\n",
    "    )\n",
    "    save_audio_file(neural_audio, \"neural_long_text.mp3\")\n",
    "    play_audio(neural_audio)"
   ]
  },
  {
   "cell_type": "markdown",
   "metadata": {},
   "source": [
    "## Performance and Pricing Considerations\n",
    "\n",
    "When using Amazon Polly, keep the following in mind:\n",
    "\n",
    "1. **Character Limits**:\n",
    "   - The synchronous `synthesize_speech` API has a limit of 3,000 characters (including SSML tags)\n",
    "   - For longer text, use the asynchronous `start_speech_synthesis_task` API\n",
    "\n",
    "2. **Engine Choice**:\n",
    "   - **Standard**: Lower cost, faster processing\n",
    "   - **Neural**: Higher quality speech, slightly higher cost\n",
    "   - **Long-Form**: Best for long content, higher cost\n",
    "\n",
    "3. **Format Considerations**:\n",
    "   - MP3: Compressed format, good quality/size balance\n",
    "   - OGG: Alternative compressed format\n",
    "   - PCM: Uncompressed, highest quality but larger files\n",
    "\n",
    "4. **Pricing**: Amazon Polly charges per character processed, with different rates based on the engine:\n",
    "   - Standard: Lower cost per million characters\n",
    "   - Neural: Higher cost per million characters\n",
    "   - First million characters per month may be free under the AWS Free Tier\n",
    "   - For current pricing, check the [Amazon Polly pricing page](https://aws.amazon.com/polly/pricing/)"
   ]
  },
  {
   "cell_type": "markdown",
   "metadata": {},
   "source": [
    "## Conclusion\n",
    "\n",
    "In this notebook, we've explored the basics of Amazon Polly's speech synthesis capabilities:\n",
    "\n",
    "- Using the Standard and Neural engines\n",
    "- Working with different voices and languages\n",
    "- Generating audio in various formats\n",
    "- Enhancing speech output using SSML\n",
    "- Trying the Long-Form engine for longer content\n",
    "\n",
    "For longer texts or batch processing, check out the next notebook which covers asynchronous synthesis using `start_speech_synthesis_task` and retrieving results from S3.\n",
    "\n",
    "The audio files generated in this notebook have been saved to the `audio_output` directory for your reference."
   ]
  }
 ],
 "metadata": {
  "kernelspec": {
   "display_name": "Python 3",
   "language": "python",
   "name": "python3"
  },
  "language_info": {
   "codemirror_mode": {
    "name": "ipython",
    "version": 3
   },
   "file_extension": ".py",
   "mimetype": "text/x-python",
   "name": "python",
   "nbconvert_exporter": "python",
   "pygments_lexer": "ipython3",
   "version": "3.12.7"
  }
 },
 "nbformat": 4,
 "nbformat_minor": 4
}
